{
 "cells": [
  {
   "cell_type": "code",
   "execution_count": 1,
   "id": "425648fc",
   "metadata": {},
   "outputs": [],
   "source": [
    "import numpy as np"
   ]
  },
  {
   "cell_type": "markdown",
   "id": "b7138d62",
   "metadata": {},
   "source": [
    "### Упражнение 1"
   ]
  },
  {
   "cell_type": "code",
   "execution_count": 2,
   "id": "1a4d80a5",
   "metadata": {},
   "outputs": [
    {
     "name": "stdout",
     "output_type": "stream",
     "text": [
      "f(x) = x**2\n",
      "x0 = 0:\n",
      "\tПри dx = 0.0,\tdy = 0.0\n",
      "\tПри dx = 0.1,\tdy = 0.010000000000000002\n",
      "\tПри dx = 0.2,\tdy = 0.04000000000000001\n",
      "\tПри dx = 0.3,\tdy = 0.09\n",
      "\tПри dx = 0.4,\tdy = 0.16000000000000003\n",
      "\tПри dx = 0.5,\tdy = 0.25\n",
      "\tПри dx = 0.6,\tdy = 0.36\n",
      "\tПри dx = 0.7,\tdy = 0.48999999999999994\n",
      "\tПри dx = 0.8,\tdy = 0.6400000000000001\n",
      "\tПри dx = 0.9,\tdy = 0.81\n",
      "\tПри dx = 1.0,\tdy = 1.0\n",
      "x0 = 2:\n",
      "\tПри dx = 0.0,\tdy = 0.0\n",
      "\tПри dx = 0.1,\tdy = 0.41000000000000014\n",
      "\tПри dx = 0.2,\tdy = 0.8400000000000007\n",
      "\tПри dx = 0.3,\tdy = 1.2899999999999991\n",
      "\tПри dx = 0.4,\tdy = 1.7599999999999998\n",
      "\tПри dx = 0.5,\tdy = 2.25\n",
      "\tПри dx = 0.6,\tdy = 2.7600000000000007\n",
      "\tПри dx = 0.7,\tdy = 3.290000000000001\n",
      "\tПри dx = 0.8,\tdy = 3.839999999999999\n",
      "\tПри dx = 0.9,\tdy = 4.41\n",
      "\tПри dx = 1.0,\tdy = 5.0\n",
      "x0 = -9:\n",
      "\tПри dx = 0.0,\tdy = 0.0\n",
      "\tПри dx = 0.1,\tdy = -1.789999999999992\n",
      "\tПри dx = 0.2,\tdy = -3.559999999999988\n",
      "\tПри dx = 0.3,\tdy = -5.3100000000000165\n",
      "\tПри dx = 0.4,\tdy = -7.040000000000006\n",
      "\tПри dx = 0.5,\tdy = -8.75\n",
      "\tПри dx = 0.6,\tdy = -10.439999999999998\n",
      "\tПри dx = 0.7,\tdy = -12.109999999999985\n",
      "\tПри dx = 0.8,\tdy = -13.760000000000005\n",
      "\tПри dx = 0.9,\tdy = -15.39\n",
      "\tПри dx = 1.0,\tdy = -17.0\n"
     ]
    }
   ],
   "source": [
    "def delta_f(f, x0, delta_x):\n",
    "    return f(x0 + delta_x) - f(x0)\n",
    "\n",
    "def calc_dy(f, x0, start, stop, step):\n",
    "    dx = np.arange(start, stop + step, step)\n",
    "    dx = np.round(dx, 6)\n",
    "\n",
    "    dy = delta_f( f, x0, dx )\n",
    "\n",
    "    print(f\"x0 = {x0}:\")\n",
    "    for _dx, _dy in zip(dx, dy):\n",
    "        print(f\"\\tПри dx = {_dx},\\tdy = {_dy}\")\n",
    "    \n",
    "def func1(x):\n",
    "    return x**2\n",
    "\n",
    "print(\"f(x) = x**2\")\n",
    "calc_dy(func1, 0, 0, 1, 0.1)\n",
    "calc_dy(func1, 2, 0, 1, 0.1)\n",
    "calc_dy(func1, -9, 0, 1, 0.1)"
   ]
  },
  {
   "cell_type": "markdown",
   "id": "762f5daf",
   "metadata": {},
   "source": [
    "### Упражнение 2"
   ]
  },
  {
   "cell_type": "code",
   "execution_count": 3,
   "id": "a679dd84",
   "metadata": {},
   "outputs": [
    {
     "name": "stdout",
     "output_type": "stream",
     "text": [
      "f(x) = 1/x\n",
      "x0 = 1:\n",
      "\tПри dx = -0.5,\tdy = 1.0\n",
      "\tПри dx = -0.45,\tdy = 0.8181818181818181\n",
      "\tПри dx = -0.4,\tdy = 0.6666666666666667\n",
      "\tПри dx = -0.35,\tdy = 0.5384615384615383\n",
      "\tПри dx = -0.3,\tdy = 0.4285714285714286\n",
      "\tПри dx = -0.25,\tdy = 0.33333333333333326\n",
      "\tПри dx = -0.2,\tdy = 0.25\n",
      "\tПри dx = -0.15,\tdy = 0.17647058823529416\n",
      "\tПри dx = -0.1,\tdy = 0.11111111111111116\n",
      "\tПри dx = -0.05,\tdy = 0.05263157894736836\n",
      "\tПри dx = -0.0,\tdy = 0.0\n",
      "\tПри dx = 0.05,\tdy = -0.04761904761904767\n",
      "\tПри dx = 0.1,\tdy = -0.09090909090909094\n",
      "\tПри dx = 0.15,\tdy = -0.13043478260869557\n",
      "\tПри dx = 0.2,\tdy = -0.16666666666666663\n",
      "\tПри dx = 0.25,\tdy = -0.19999999999999996\n",
      "\tПри dx = 0.3,\tdy = -0.23076923076923084\n",
      "\tПри dx = 0.35,\tdy = -0.2592592592592593\n",
      "\tПри dx = 0.4,\tdy = -0.2857142857142857\n",
      "\tПри dx = 0.45,\tdy = -0.31034482758620685\n",
      "\tПри dx = 0.5,\tdy = -0.33333333333333337\n"
     ]
    }
   ],
   "source": [
    "def func2(x):\n",
    "    return 1/x\n",
    "\n",
    "print(\"f(x) = 1/x\")\n",
    "calc_dy(func2, 1, -0.5, 0.5, 0.05)"
   ]
  },
  {
   "cell_type": "markdown",
   "id": "9bca767f",
   "metadata": {},
   "source": [
    "### Упражнение 3"
   ]
  },
  {
   "cell_type": "code",
   "execution_count": 5,
   "id": "043acdd4",
   "metadata": {},
   "outputs": [
    {
     "name": "stdout",
     "output_type": "stream",
     "text": [
      "f(x) = sqrt(x)\n",
      "\n",
      "x0 = 1.0\n",
      "dx\tdf/dx\n",
      "0.1\t0.4880884817015163\n",
      "0.01\t0.498756211208895\n",
      "0.001\t0.4998750624609638\n",
      "\n",
      "x0 = 0.5\n",
      "dx\tdf/dx\n",
      "0.1\t0.6748988805493583\n",
      "0.01\t0.7036061667737403\n",
      "0.001\t0.7067535809079928\n",
      "\n",
      "x0 = 2.0\n",
      "dx\tdf/dx\n",
      "0.1\t0.34924112245848793\n",
      "0.01\t0.35311255026873045\n",
      "0.001\t0.3535092074644641\n"
     ]
    }
   ],
   "source": [
    "def calc_ratio(f, x0, dx):\n",
    "    for _x0 in x0:\n",
    "        ratio = delta_f(f, _x0, dx) / dx\n",
    "        \n",
    "        print(f\"\\nx0 = {_x0}\")\n",
    "        print(\"dx\\tdf/dx\")\n",
    "        for _dx, r in zip(dx, ratio):\n",
    "            print(f\"{_dx}\\t{r}\")\n",
    "\n",
    "def func3(x):\n",
    "    return np.sqrt(x)\n",
    "\n",
    "\n",
    "print(\"f(x) = sqrt(x)\")\n",
    "x0 = np.array([1, 0.5, 2])\n",
    "dx = np.array([1e-1, 1e-2, 1e-3])\n",
    "calc_ratio(func3, x0, dx)"
   ]
  },
  {
   "cell_type": "markdown",
   "id": "a5b5b1ec",
   "metadata": {},
   "source": [
    "### Упражнение 4"
   ]
  },
  {
   "cell_type": "code",
   "execution_count": 6,
   "id": "71664e91",
   "metadata": {},
   "outputs": [
    {
     "name": "stdout",
     "output_type": "stream",
     "text": [
      "f(x) = x**(1/3)\n",
      "\n",
      "x0 = 1\n",
      "dx\tdf/dx\n",
      "0.001\t0.3332222839094179\n",
      "-0.001\t0.3334445062139757\n",
      "\n",
      "x0 = 2\n",
      "dx\tdf/dx\n",
      "0.001\t0.20995185356076362\n",
      "-0.001\t0.2100218491807304\n",
      "\n",
      "x0 = -3\n",
      "dx\tdf/dx\n",
      "0.001\t0.16026776110455998\n",
      "-0.001\t0.1602321500029369\n",
      "\n",
      "\n",
      "f(x) = 2**x\n",
      "\n",
      "x0 = 1\n",
      "dx\tdf/dx\n",
      "0.001\t1.3867749251610384\n",
      "-0.001\t1.3858140190949886\n",
      "\n",
      "x0 = 2\n",
      "dx\tdf/dx\n",
      "0.001\t2.773549850322077\n",
      "-0.001\t2.771628038189533\n",
      "\n",
      "x0 = -3\n",
      "dx\tdf/dx\n",
      "0.001\t0.0866734328225649\n",
      "-0.001\t0.08661337619342291\n"
     ]
    }
   ],
   "source": [
    "x0 = np.array([1, 2, -3])\n",
    "dx = np.array([1e-3, -1e-3])\n",
    "\n",
    "print(\"f(x) = x**(1/3)\")\n",
    "calc_ratio(lambda x: np.cbrt(x), x0, dx)\n",
    "\n",
    "print(\"\\n\\nf(x) = 2**x\")\n",
    "calc_ratio(lambda x: 2.0**x, x0, dx)"
   ]
  },
  {
   "cell_type": "markdown",
   "id": "9c8cd2f6",
   "metadata": {},
   "source": [
    "### Упражнение 5"
   ]
  },
  {
   "cell_type": "code",
   "execution_count": null,
   "id": "94fa04b1",
   "metadata": {},
   "outputs": [],
   "source": []
  },
  {
   "cell_type": "markdown",
   "id": "aab59fdb",
   "metadata": {},
   "source": [
    "### Упражнение 6"
   ]
  },
  {
   "cell_type": "code",
   "execution_count": 7,
   "id": "edbd8d77",
   "metadata": {},
   "outputs": [
    {
     "name": "stdout",
     "output_type": "stream",
     "text": [
      "f(0.5) = 0.378815271784985\n",
      "f'(0.5) = 0.580279834244736\n",
      "\n",
      "f(0.5) = 1.31995498454966\n",
      "f'(0.5) = 1.36324364610782*log(3)\n"
     ]
    }
   ],
   "source": [
    "import sympy as sp\n",
    "x  = sp.symbols('x')\n",
    "x0 = 0.5\n",
    "f  = sp.atan(sp.sqrt(x))**2\n",
    "y  = sp.diff(f, x, 1)\n",
    "\n",
    "print(f\"f(0.5) = {f.subs(x, x0)}\")\n",
    "print(f\"f'(0.5) = {y.subs(x, x0)}\\n\")\n",
    "\n",
    "f  = 3**(sp.asin(x**2))\n",
    "y  = sp.diff(f, x, 1)\n",
    "\n",
    "print(f\"f(0.5) = {f.subs(x, x0)}\")\n",
    "print(f\"f'(0.5) = {y.subs(x, x0)}\")"
   ]
  },
  {
   "cell_type": "markdown",
   "id": "fe6a461a",
   "metadata": {},
   "source": [
    "### Упражнение 7"
   ]
  },
  {
   "cell_type": "code",
   "execution_count": 8,
   "id": "6d6e7abf",
   "metadata": {},
   "outputs": [
    {
     "data": {
      "image/png": "[encoded data removed]",
      "text/plain": [
       "<Figure size 640x480 with 1 Axes>"
      ]
     },
     "metadata": {},
     "output_type": "display_data"
    },
    {
     "data": {
      "image/png": "[encoded data removed]",
      "text/plain": [
       "<Figure size 640x480 with 1 Axes>"
      ]
     },
     "metadata": {},
     "output_type": "display_data"
    }
   ],
   "source": [
    "import matplotlib.pyplot as plt\n",
    "\n",
    "def plot_tangent(f, x0):\n",
    "    _x = np.linspace(x0-1, x0+1, 100)\n",
    "    \n",
    "    f = sp.sympify(f)    \n",
    "    y = sp.diff(f, x, 1)\n",
    "    \n",
    "    k = y.subs(x, x0)\n",
    "    b = -f.subs(x, x0)\n",
    "    t = y.subs(x, x0)*(x-x0) + f.subs(x, x0)\n",
    "    t_lam = sp.lambdify(x, t)\n",
    "    t_vals = t_lam(_x)\n",
    "    \n",
    "    f_lam = sp.lambdify(x, f)\n",
    "    f_vals = f_lam(_x)\n",
    "    \n",
    "    plt.plot(_x, f_vals)[0].set_label(\"f(x)\")\n",
    "    plt.plot(_x, t_vals)[0].set_label(\"f'(x)\")\n",
    "    \n",
    "    y0 = t_lam(x0)\n",
    "    plt.plot([x0], [y0], 'o', color='red')[0].set_label(\"Intersection\")\n",
    "    \n",
    "    plt.legend()\n",
    "    plt.grid()\n",
    "    plt.show()\n",
    "    \n",
    "plot_tangent(\"cos(3*x)**3\", np.pi/4)\n",
    "plot_tangent(\"exp(2*x)\", 1)"
   ]
  },
  {
   "cell_type": "markdown",
   "id": "d675765f",
   "metadata": {},
   "source": [
    "### Упражнение С1"
   ]
  },
  {
   "cell_type": "code",
   "execution_count": 14,
   "id": "7e84180a",
   "metadata": {},
   "outputs": [
    {
     "name": "stdout",
     "output_type": "stream",
     "text": [
      "f(x) = (sin(1/x))^5\n",
      "\n",
      "x0 = 1\n",
      "dx\tdf/dx\n",
      "0.001\t-1.3524131480908141\n",
      "-0.001\t-1.3564913431414194\n",
      "\n",
      "x0 = 2\n",
      "dx\tdf/dx\n",
      "0.001\t-0.05787591726518285\n",
      "-0.001\t-0.058032040110924527\n",
      "\n",
      "x0 = -3\n",
      "dx\tdf/dx\n",
      "0.001\t-0.006022541276741802\n",
      "-0.001\t-0.006011038531273001\n"
     ]
    }
   ],
   "source": [
    "def calc_ratio(f, x0, dx):\n",
    "    for _x0 in x0:\n",
    "        ratio = delta_f(f, _x0, dx) / dx\n",
    "        \n",
    "        print(f\"\\nx0 = {_x0}\")\n",
    "        print(\"dx\\tdf/dx\")\n",
    "        for _dx, r in zip(dx, ratio):\n",
    "            print(f\"{_dx}\\t{r}\")\n",
    "\n",
    "def func4(x):\n",
    "    return np.sin(1/x)**5\n",
    "\n",
    "\n",
    "print(\"f(x) = (sin(1/x))^5\")\n",
    "x0 = np.array([1, 2, -3])\n",
    "dx = np.array([1e-3, -1e-3])\n",
    "calc_ratio(func4, x0, dx)"
   ]
  },
  {
   "cell_type": "markdown",
   "id": "44cfd604",
   "metadata": {},
   "source": [
    "### Упражнение С3"
   ]
  },
  {
   "cell_type": "code",
   "execution_count": 12,
   "id": "494dafd3",
   "metadata": {},
   "outputs": [
    {
     "name": "stdout",
     "output_type": "stream",
     "text": [
      "f(0.5) = 0.18174552334292/log(3)\n",
      "f'(0.5) = 1.16077037030236/log(3)\n",
      "\n"
     ]
    }
   ],
   "source": [
    "import sympy as sp\n",
    "x  = sp.symbols('x')\n",
    "x0 = 0.5\n",
    "f  = sp.atan(sp.sqrt(x))**2\n",
    "f  = ((sp.log(x**2+1))/(sp.log(3))) / sp.acos(sp.sin(x))**3\n",
    "y  = sp.diff(f, x, 1)\n",
    "\n",
    "print(f\"f(0.5) = {f.subs(x, x0)}\")\n",
    "print(f\"f'(0.5) = {y.subs(x, x0)}\\n\")"
   ]
  }
 ],
 "metadata": {
  "kernelspec": {
   "display_name": "Python 3 (ipykernel)",
   "language": "python",
   "name": "python3"
  },
  "language_info": {
   "codemirror_mode": {
    "name": "ipython",
    "version": 3
   },
   "file_extension": ".py",
   "mimetype": "text/x-python",
   "name": "python",
   "nbconvert_exporter": "python",
   "pygments_lexer": "ipython3",
   "version": "3.10.7"
  }
 },
 "nbformat": 4,
 "nbformat_minor": 5
}
