{
 "cells": [
  {
   "cell_type": "code",
   "execution_count": 1,
   "id": "22c48b98",
   "metadata": {},
   "outputs": [],
   "source": [
    "import sympy as sp\n",
    "import numpy as np\n",
    "import matplotlib.pyplot as plt\n",
    "from scipy import integrate"
   ]
  },
  {
   "cell_type": "markdown",
   "id": "e496954f",
   "metadata": {},
   "source": [
    "### Упражнение 1"
   ]
  },
  {
   "cell_type": "markdown",
   "id": "9200269f",
   "metadata": {},
   "source": [
    "#### а)"
   ]
  },
  {
   "cell_type": "code",
   "execution_count": 15,
   "id": "73476547",
   "metadata": {},
   "outputs": [
    {
     "name": "stdout",
     "output_type": "stream",
     "text": [
      "  x⋅cos(5⋅x)   sin(5⋅x)\n",
      "- ────────── + ────────\n",
      "      5           25   \n"
     ]
    }
   ],
   "source": [
    "x = sp.Symbol('x')\n",
    "I = sp.integrate( x*sp.sin(5*x), x )\n",
    "sp.pprint(I)"
   ]
  },
  {
   "cell_type": "markdown",
   "id": "69bcf999",
   "metadata": {},
   "source": [
    "#### б)"
   ]
  },
  {
   "cell_type": "code",
   "execution_count": 16,
   "id": "2abb2fad",
   "metadata": {},
   "outputs": [
    {
     "name": "stdout",
     "output_type": "stream",
     "text": [
      "\n",
      "                      ⎛ 2    ⎞                       \n",
      "  4⋅log(x - 2)   2⋅log⎝x  + 1⎠   3⋅atan(x)      1    \n",
      "- ──────────── + ───────────── + ───────── - ────────\n",
      "       25              25            25      5⋅x - 10\n"
     ]
    }
   ],
   "source": [
    "x = sp.Symbol('x')\n",
    "I = sp.integrate( 1/((x**2+1)*(x-2)**2), x )\n",
    "\n",
    "print()\n",
    "sp.pprint(I)"
   ]
  },
  {
   "cell_type": "markdown",
   "id": "aed2c7ba",
   "metadata": {},
   "source": [
    "### Упражнение 2"
   ]
  },
  {
   "cell_type": "markdown",
   "id": "8e3afb50",
   "metadata": {},
   "source": [
    "#### а)"
   ]
  },
  {
   "cell_type": "code",
   "execution_count": 17,
   "id": "14758bbf",
   "metadata": {},
   "outputs": [
    {
     "name": "stdout",
     "output_type": "stream",
     "text": [
      "π\n",
      "─\n",
      "2\n"
     ]
    }
   ],
   "source": [
    "x = sp.Symbol('x')\n",
    "I = sp.integrate( sp.sqrt(1-x**2), (x, -1, 1) )\n",
    "sp.pprint(I)"
   ]
  },
  {
   "cell_type": "markdown",
   "id": "3411ea6e",
   "metadata": {},
   "source": [
    "#### б)"
   ]
  },
  {
   "cell_type": "code",
   "execution_count": 18,
   "id": "6eb97578",
   "metadata": {},
   "outputs": [
    {
     "name": "stdout",
     "output_type": "stream",
     "text": [
      "       3\n",
      "1   2⋅ℯ \n",
      "─ + ────\n",
      "9    9  \n"
     ]
    }
   ],
   "source": [
    "x = sp.Symbol('x')\n",
    "I = sp.integrate( x * sp.exp(3*x), (x, 0, 1) )\n",
    "sp.pprint(I)"
   ]
  },
  {
   "cell_type": "markdown",
   "id": "a53dd36f",
   "metadata": {},
   "source": [
    "### Упражнение 3"
   ]
  },
  {
   "cell_type": "code",
   "execution_count": 13,
   "id": "0f6f6082",
   "metadata": {},
   "outputs": [
    {
     "name": "stdout",
     "output_type": "stream",
     "text": [
      "Left sum  = 1.375\n",
      "Right sum = 1.625\n"
     ]
    }
   ],
   "source": [
    "def calc_integ_summ(f, a, b, n: int, left: bool, plot: bool):\n",
    "    assert b > a, \"Верхний предел интегрирования должен быть больше нижнего\"\n",
    "    assert n > 0 and round(n) == n, \"Число разбиений должно быть положительным целым числом\"\n",
    "    \n",
    "    lam = 0 if left else 1\n",
    "    \n",
    "    edges = np.linspace(a, b, n+1)\n",
    "    dx = edges[1] - edges[0]\n",
    "    summ = 0\n",
    "    for i in range( len(edges) - 1 ):\n",
    "        x = edges[i] + (edges[i+1] - edges[i]) * lam\n",
    "        summ += f(x) * dx\n",
    "    return summ\n",
    "    \n",
    "f = lambda x: x\n",
    "left  = calc_integ_summ(f, 1, 2, 4, True, True)\n",
    "right = calc_integ_summ(f, 1, 2, 4, False, True)\n",
    "\n",
    "print(f\"Left sum  = {left}\\nRight sum = {right}\")"
   ]
  },
  {
   "cell_type": "code",
   "execution_count": 4,
   "id": "320cb3b0-2e14-46c5-9436-c676da067eed",
   "metadata": {},
   "outputs": [],
   "source": [
    "### Упражнение 4"
   ]
  },
  {
   "cell_type": "code",
   "execution_count": 19,
   "id": "7f5de7b0",
   "metadata": {},
   "outputs": [
    {
     "name": "stdout",
     "output_type": "stream",
     "text": [
      "Upper sum  = 1.625\n",
      "Lower sum = 1.375\n"
     ]
    }
   ],
   "source": [
    "def calc_darboux_summ(f, a, b, n: int, upper: bool, plot: bool):\n",
    "    assert b > a, \"Верхний предел интегрирования должен быть больше нижнего\"\n",
    "    assert n > 0 and round(n) == n, \"Число разбиений должно быть положительным целым числом\"\n",
    "        \n",
    "    edges = np.linspace(a, b, n+1)\n",
    "    dx = edges[1] - edges[0]\n",
    "    \n",
    "    summ = 0\n",
    "    for i in range( len(edges) - 1 ):\n",
    "        h_func = np.max if upper else np.min\n",
    "        x = np.linspace( edges[i], edges[i+1], 1000 )\n",
    "        y = f(x)\n",
    "        height = h_func(y)\n",
    "        summ += height * dx\n",
    "        \n",
    "    return summ\n",
    "\n",
    "f = lambda x: x\n",
    "n = 4\n",
    "upper  = calc_darboux_summ(f, 1, 2, n, True, True)\n",
    "lower = calc_darboux_summ(f, 1, 2, n, False, True)\n",
    "\n",
    "print(f\"Upper sum  = {upper}\\nLower sum = {lower}\")"
   ]
  },
  {
   "cell_type": "markdown",
   "id": "2c8058ae",
   "metadata": {},
   "source": [
    "### Упражнение 5"
   ]
  },
  {
   "cell_type": "code",
   "execution_count": 15,
   "id": "6fa12010",
   "metadata": {},
   "outputs": [
    {
     "name": "stdout",
     "output_type": "stream",
     "text": [
      "Левая интегральная сумма = 0.13543209505915155\n",
      "Правая интегральная сумма = 0.13508253125686884\n"
     ]
    }
   ],
   "source": [
    "f = lambda x: np.exp(-x**2)\n",
    "n = 1000\n",
    "left  = calc_integ_summ(f, 1, 2, n, True, True)\n",
    "right = calc_integ_summ(f, 1, 2, n, False, True)\n",
    "\n",
    "print(f\"Левая интегральная сумма = {left}\")\n",
    "print(f\"Правая интегральная сумма = {right}\")"
   ]
  },
  {
   "cell_type": "code",
   "execution_count": 16,
   "id": "d660430c",
   "metadata": {},
   "outputs": [
    {
     "name": "stdout",
     "output_type": "stream",
     "text": [
      "Верхняя сумма Дарбу = 0.13543209505915155\n",
      "Нижняя сумма Дарбу = 0.13508253125686884\n"
     ]
    }
   ],
   "source": [
    "f = lambda x: np.exp(-x**2)\n",
    "n = 1000\n",
    "upper  = calc_darboux_summ(f, 1, 2, n, True, True)\n",
    "lower = calc_darboux_summ(f, 1, 2, n, False, True)\n",
    "\n",
    "print(f\"Верхняя сумма Дарбу = {upper}\")\n",
    "print(f\"Нижняя сумма Дарбу = {lower}\")"
   ]
  },
  {
   "cell_type": "markdown",
   "id": "df69d51c",
   "metadata": {},
   "source": [
    "### Упражнение 6"
   ]
  },
  {
   "cell_type": "code",
   "execution_count": 32,
   "id": "89242896",
   "metadata": {},
   "outputs": [
    {
     "name": "stdout",
     "output_type": "stream",
     "text": [
      "По формуле Симпсона, 100 разбиений: 9\n",
      "По формуле Симпсона, 1000 разбиений: 9\n",
      "\n",
      "Сравнение 100 разбиений:\n",
      "С левой интегральной суммой: 0.00017479415458643288\n",
      "С правой интегральной суммой: -0.00017476964769627679\n",
      "С верхней суммой Дарбу: 1.489742699095435\n",
      "С нижней суммой Дарбу: 1.239742699095435\n",
      "\n",
      "Сравнение 1000 разбиений:\n",
      "С левой интегральной суммой: 0.0001748370676580846\n",
      "С правой интегральной суммой: -0.00017472673462462507\n",
      "С верхней суммой Дарбу: 1.4897427420085065\n",
      "С нижней суммой Дарбу: 1.2397427420085065\n"
     ]
    }
   ],
   "source": [
    "f = lambda x: np.exp(-x**2)\n",
    "x = np.linspace(1, 2, 100)\n",
    "y = f(x)\n",
    "i_100 = integrate.simpson(y, x)\n",
    "print(f\"По формуле Симпсона, 100 разбиений: {i}\")\n",
    "\n",
    "x = np.linspace(1, 2, 1000)\n",
    "y = f(x)\n",
    "i_1000 = integrate.simpson(y, x)\n",
    "print(f\"По формуле Симпсона, 1000 разбиений: {i}\")\n",
    "\n",
    "print(\"\\nСравнение 100 разбиений:\")\n",
    "print(f\"С левой интегральной суммой: {left-i_100}\")\n",
    "print(f\"С правой интегральной суммой: {right-i_100}\")\n",
    "print(f\"С верхней суммой Дарбу: {upper-i_100}\")\n",
    "print(f\"С нижней суммой Дарбу: {lower-i_100}\")\n",
    "\n",
    "print(\"\\nСравнение 1000 разбиений:\")\n",
    "print(f\"С левой интегральной суммой: {left-i_1000}\")\n",
    "print(f\"С правой интегральной суммой: {right-i_1000}\")\n",
    "print(f\"С верхней суммой Дарбу: {upper-i_1000}\")\n",
    "print(f\"С нижней суммой Дарбу: {lower-i_1000}\")"
   ]
  },
  {
   "cell_type": "markdown",
   "id": "13089dbb",
   "metadata": {},
   "source": [
    "### Упражнение С1"
   ]
  },
  {
   "cell_type": "code",
   "execution_count": 22,
   "id": "64dc3e28",
   "metadata": {},
   "outputs": [
    {
     "name": "stdout",
     "output_type": "stream",
     "text": [
      "\n",
      "⌠                     \n",
      "⎮         1           \n",
      "⎮ ───────────────── dx\n",
      "⎮    ______________   \n",
      "⎮   ╱  2              \n",
      "⎮ ╲╱  x  + 2⋅x + 3    \n",
      "⌡                     \n",
      "\n",
      "При интегрировании вручную:\n",
      "I = ln(| sqrt((x+1)^2 + 2) + x + 1 |)\n"
     ]
    }
   ],
   "source": [
    "x = sp.Symbol('x')\n",
    "I = sp.integrate( 1/sp.sqrt(x**2 + 2*x + 3), x )\n",
    "print()\n",
    "sp.pprint(I)\n",
    "\n",
    "print(\"\\nПри интегрировании вручную:\")\n",
    "print(\"I = ln(| sqrt((x+1)^2 + 2) + x + 1 |)\")"
   ]
  },
  {
   "cell_type": "markdown",
   "id": "66b9a4e3",
   "metadata": {},
   "source": [
    "### Упражнение С2"
   ]
  },
  {
   "cell_type": "code",
   "execution_count": 23,
   "id": "1e64277c",
   "metadata": {},
   "outputs": [
    {
     "name": "stdout",
     "output_type": "stream",
     "text": [
      "   ⎛ 2⎞\n",
      "   ⎜π ⎟\n",
      "sin⎜──⎟\n",
      "   ⎝4 ⎠\n",
      "───────\n",
      "   2   \n"
     ]
    }
   ],
   "source": [
    "x = sp.Symbol('x')\n",
    "I = sp.integrate( x * sp.cos(x**2), (x, 0, sp.pi/2) )\n",
    "sp.pprint(I)"
   ]
  },
  {
   "cell_type": "markdown",
   "id": "ef62d240",
   "metadata": {},
   "source": [
    "### Упражнение С3"
   ]
  },
  {
   "cell_type": "code",
   "execution_count": 28,
   "id": "f133687a",
   "metadata": {},
   "outputs": [
    {
     "data": {
      "text/plain": [
       "1.5"
      ]
     },
     "execution_count": 28,
     "metadata": {},
     "output_type": "execute_result"
    }
   ],
   "source": [
    "def int_sum(f, a, b, n: int, lam, plot: bool):\n",
    "    assert b > a, \"Верхний предел интегрирования должен быть больше нижнего\"\n",
    "    assert 0 <= lam <= 1, \"Lambda должна быть от 0 до 1\"\n",
    "    assert n > 0 and round(n) == n, \"Число разбиений должно быть положительным целым числом\"\n",
    "    \n",
    "    edges = np.linspace(a, b, n+1)\n",
    "    dx = edges[1] - edges[0]\n",
    "    \n",
    "    summ = 0\n",
    "    for i in range( len(edges) - 1 ):\n",
    "        x = edges[i] + (edges[i+1] - edges[i]) * lam\n",
    "        summ += f(x) * dx\n",
    "    \n",
    "    return summ\n",
    "        \n",
    "    \n",
    "f = lambda x: x\n",
    "n = 4\n",
    "integ  = int_sum(f, 1, 2, n, 1/2, True)\n",
    "integ"
   ]
  },
  {
   "cell_type": "markdown",
   "id": "3a85a96c",
   "metadata": {},
   "source": [
    "### Индивидуальные задания"
   ]
  },
  {
   "cell_type": "markdown",
   "id": "51e052bc",
   "metadata": {},
   "source": [
    "### Задание 1"
   ]
  },
  {
   "cell_type": "code",
   "execution_count": 31,
   "id": "b7f2b371",
   "metadata": {
    "scrolled": true
   },
   "outputs": [
    {
     "name": "stdout",
     "output_type": "stream",
     "text": [
      "n\tСумма\n",
      "2\t-9.0\n",
      "4\t-11.25\n",
      "8\t-14.0625\n",
      "16\t-15.890625\n",
      "32\t-16.91015625\n",
      "64\t-17.4462890625\n",
      "128\t-17.720947265625\n",
      "256\t-17.85992431640625\n",
      "512\t-17.929824829101562\n",
      "1024\t-17.96487808227539\n"
     ]
    }
   ],
   "source": [
    "f = lambda x: -x**2 + 1\n",
    "ns = [ 2**i for i in range(1, 11) ]\n",
    "a = -4\n",
    "b = 2\n",
    "lam = 1\n",
    "plot = True\n",
    "results = []\n",
    "\n",
    "for n in ns:\n",
    "    results.append( int_sum(f, a, b, n, lam, plot) )\n",
    "    \n",
    "print(\"n\\tСумма\")\n",
    "for i, res in enumerate(results):\n",
    "    print(f\"{ns[i]}\\t{res}\")"
   ]
  },
  {
   "cell_type": "markdown",
   "id": "af737d8d",
   "metadata": {},
   "source": [
    "### Задание 2"
   ]
  },
  {
   "cell_type": "code",
   "execution_count": 30,
   "id": "00949e86",
   "metadata": {
    "scrolled": true
   },
   "outputs": [
    {
     "name": "stdout",
     "output_type": "stream",
     "text": [
      "\n",
      "n\tВерхняя сумма Дарбу\n",
      "2\t3.0\n",
      "4\t-5.25\n",
      "8\t-11.0625\n",
      "16\t-14.390625\n",
      "32\t-16.16015625\n",
      "64\t-17.0712890625\n",
      "128\t-17.533447265625\n",
      "256\t-17.76617431640625\n",
      "512\t-17.882949829101562\n",
      "1024\t-17.94144058227539\n",
      "\n",
      "n\tНижняя сумма Дарбу\n",
      "2\t-54.0\n",
      "4\t-34.875\n",
      "8\t-26.015625\n",
      "16\t-21.884765625\n",
      "32\t-19.909423828125\n",
      "64\t-18.946197509765625\n",
      "128\t-18.470935821533203\n",
      "256\t-18.234922885894775\n",
      "512\t-18.117324650287628\n",
      "1024\t-18.05862805992365\n"
     ]
    }
   ],
   "source": [
    "f = lambda x: -x**2 + 1\n",
    "ns = [ 2**i for i in range(1, 11) ]\n",
    "a = -4\n",
    "b = 2\n",
    "lam = 1\n",
    "plot = True\n",
    "results_upper = []\n",
    "results_lower = []\n",
    "\n",
    "for n in ns:\n",
    "    results_upper.append( calc_darboux_summ(f, a, b, n, True, plot) )\n",
    "    \n",
    "for n in ns:\n",
    "    results_lower.append( calc_darboux_summ(f, a, b, n, False, plot) )\n",
    "    \n",
    "print(\"\\nn\\tВерхняя сумма Дарбу\")\n",
    "for i, res in enumerate(results_upper):\n",
    "    print(f\"{ns[i]}\\t{res}\")\n",
    "    \n",
    "print(\"\\nn\\tНижняя сумма Дарбу\")\n",
    "for i, res in enumerate(results_lower):\n",
    "    print(f\"{ns[i]}\\t{res}\")"
   ]
  },
  {
   "cell_type": "code",
   "execution_count": null,
   "id": "6eae9e48-5c1a-43f2-acfa-81bce1e5e3b9",
   "metadata": {},
   "outputs": [],
   "source": []
  }
 ],
 "metadata": {
  "kernelspec": {
   "display_name": "Python 3 (ipykernel)",
   "language": "python",
   "name": "python3"
  },
  "language_info": {
   "codemirror_mode": {
    "name": "ipython",
    "version": 3
   },
   "file_extension": ".py",
   "mimetype": "text/x-python",
   "name": "python",
   "nbconvert_exporter": "python",
   "pygments_lexer": "ipython3",
   "version": "3.9.12"
  }
 },
 "nbformat": 4,
 "nbformat_minor": 5
}
